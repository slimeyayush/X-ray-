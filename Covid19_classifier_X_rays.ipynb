{
  "nbformat": 4,
  "nbformat_minor": 0,
  "metadata": {
    "colab": {
      "provenance": []
    },
    "kernelspec": {
      "name": "python3",
      "display_name": "Python 3"
    },
    "language_info": {
      "name": "python"
    }
  },
  "cells": [
    {
      "cell_type": "markdown",
      "source": [
        "## Importing neccessary libraries"
      ],
      "metadata": {
        "id": "J6FaL5pOWBiK"
      }
    },
    {
      "cell_type": "code",
      "execution_count": null,
      "metadata": {
        "id": "Q25QJMqyVWym"
      },
      "outputs": [],
      "source": [
        "import tensorflow as tf\n",
        "from tensorflow import keras\n",
        "from tensorflow.keras.models import Sequential\n",
        "from tensorflow.keras.preprocessing.image import ImageDataGenerator\n",
        "\n",
        "from sklearn.metrics import classification_report\n",
        "from sklearn.metrics import confusion_matrix\n",
        "\n",
        "from tensorflow.keras.callbacks import EarlyStopping\n",
        "from tensorflow.keras import layers\n",
        "\n",
        "import matplotlib.pyplot as plt\n",
        "import numpy"
      ]
    },
    {
      "cell_type": "markdown",
      "source": [
        "## Loading Data"
      ],
      "metadata": {
        "id": "6I6-vJyPWHb-"
      }
    },
    {
      "cell_type": "code",
      "source": [
        "#Construct an ImageDataGenerator object:\n",
        "DIRECTORY = \"/content/drive/MyDrive/Colab/Covid19-classifier-X-rays/Covid19-dataset/train\"\n",
        "CLASS_MODE = \"categorical\"\n",
        "COLOR_MODE = \"grayscale\"\n",
        "TARGET_SIZE = (256,256)\n",
        "BATCH_SIZE = 32"
      ],
      "metadata": {
        "id": "GxKYWyQeV7YE"
      },
      "execution_count": null,
      "outputs": []
    },
    {
      "cell_type": "code",
      "source": [
        "training_data_generator = ImageDataGenerator(rescale=1.0/255,\n",
        "\n",
        "#Randomly increase or decrease the size of the image by up to 10%\n",
        "zoom_range=0.1,\n",
        "\n",
        "#Randomly rotate the image between -25,25 degrees\n",
        "rotation_range=25,\n",
        "\n",
        "#Shift the image along its width by up to +/- 5%\n",
        "width_shift_range=0.05,\n",
        "\n",
        "#Shift the image along its height by up to +/- 5%\n",
        "height_shift_range=0.05,\n",
        "\n",
        ")\n",
        "\n",
        "training_iterator = training_data_generator.flow_from_directory(DIRECTORY,class_mode='categorical',color_mode='grayscale',batch_size=BATCH_SIZE)#, subset='training')\n"
      ],
      "metadata": {
        "colab": {
          "base_uri": "https://localhost:8080/"
        },
        "id": "l-OtTP1RWLVe",
        "outputId": "68d88b26-b2a4-4232-8122-af67029c36f8"
      },
      "execution_count": null,
      "outputs": [
        {
          "output_type": "stream",
          "name": "stdout",
          "text": [
            "Found 251 images belonging to 3 classes.\n"
          ]
        }
      ]
    },
    {
      "cell_type": "code",
      "source": [
        "validation_data_generator = ImageDataGenerator()\n",
        "\n",
        "validation_iterator = validation_data_generator.flow_from_directory(DIRECTORY,class_mode='categorical', color_mode='grayscale',batch_size=BATCH_SIZE)#, subset='validation')\n"
      ],
      "metadata": {
        "colab": {
          "base_uri": "https://localhost:8080/"
        },
        "id": "yMrOyPzVWcpI",
        "outputId": "da7d67cf-dc76-467b-839d-985c3f5e0557"
      },
      "execution_count": null,
      "outputs": [
        {
          "output_type": "stream",
          "name": "stdout",
          "text": [
            "Found 251 images belonging to 3 classes.\n"
          ]
        }
      ]
    },
    {
      "cell_type": "markdown",
      "source": [
        "## Modeling"
      ],
      "metadata": {
        "id": "zTz3pG2YZ7zt"
      }
    },
    {
      "cell_type": "code",
      "source": [
        "def design_model(training_data):\n",
        "    # sequential model\n",
        "    model = Sequential()\n",
        "    # add input layer with grayscale image shape\n",
        "    model.add(tf.keras.Input(shape=(256, 256, 1)))\n",
        "    # convolutional hidden layers with relu functions\n",
        "    # maxpooling layers and dropout layers as well\n",
        "    model.add(layers.Conv2D(5, 5, strides=3, activation=\"relu\"))\n",
        "    model.add(layers.MaxPooling2D(\n",
        "        pool_size=(2, 2), strides=(2,2)))\n",
        "    model.add(layers.Dropout(0.1))\n",
        "    model.add(layers.Conv2D(5, 5, strides=3, activation=\"relu\"))\n",
        "    model.add(layers.MaxPooling2D(\n",
        "        pool_size=(2, 2), strides=(2,2)))\n",
        "    model.add(layers.Dropout(0.1))\n",
        "    model.add(layers.Conv2D(3, 3, strides=1, activation=\"relu\"))\n",
        "    model.add(layers.MaxPooling2D(\n",
        "        pool_size=(2, 2), strides=(2,2)))\n",
        "    model.add(layers.Dropout(0.2))\n",
        "\n",
        "    model.add(layers.Flatten())\n",
        "    # output layer with softmax activation function\n",
        "    model.add(layers.Dense(3,activation=\"softmax\"))\n",
        "    # compile model with Adam optimizer\n",
        "    # loss function is categorical crossentropy\n",
        "    # metrics are categorical accuracy and AUC\n",
        "    print(\"\\nCompiling model...\")\n",
        "    model.compile(optimizer=tf.keras.optimizers.Adam(learning_rate=.001), loss=tf.keras.losses.CategoricalCrossentropy(), metrics=[tf.keras.metrics.CategoricalAccuracy(),tf.keras.metrics.AUC()],)\n",
        "    # summarize model\n",
        "    model.summary()\n",
        "    return model"
      ],
      "metadata": {
        "id": "8eNPfmFqZP23"
      },
      "execution_count": null,
      "outputs": []
    },
    {
      "cell_type": "code",
      "source": [
        "model = design_model(training_iterator)"
      ],
      "metadata": {
        "colab": {
          "base_uri": "https://localhost:8080/"
        },
        "id": "fzfbigPWaBaO",
        "outputId": "796a2b63-57e2-4a13-aee6-786c44ff731e"
      },
      "execution_count": null,
      "outputs": [
        {
          "output_type": "stream",
          "name": "stdout",
          "text": [
            "\n",
            "Compiling model...\n",
            "Model: \"sequential_1\"\n",
            "_________________________________________________________________\n",
            " Layer (type)                Output Shape              Param #   \n",
            "=================================================================\n",
            " conv2d_3 (Conv2D)           (None, 84, 84, 5)         130       \n",
            "                                                                 \n",
            " max_pooling2d_3 (MaxPooling  (None, 42, 42, 5)        0         \n",
            " 2D)                                                             \n",
            "                                                                 \n",
            " dropout_3 (Dropout)         (None, 42, 42, 5)         0         \n",
            "                                                                 \n",
            " conv2d_4 (Conv2D)           (None, 13, 13, 5)         630       \n",
            "                                                                 \n",
            " max_pooling2d_4 (MaxPooling  (None, 6, 6, 5)          0         \n",
            " 2D)                                                             \n",
            "                                                                 \n",
            " dropout_4 (Dropout)         (None, 6, 6, 5)           0         \n",
            "                                                                 \n",
            " conv2d_5 (Conv2D)           (None, 4, 4, 3)           138       \n",
            "                                                                 \n",
            " max_pooling2d_5 (MaxPooling  (None, 2, 2, 3)          0         \n",
            " 2D)                                                             \n",
            "                                                                 \n",
            " dropout_5 (Dropout)         (None, 2, 2, 3)           0         \n",
            "                                                                 \n",
            " flatten_1 (Flatten)         (None, 12)                0         \n",
            "                                                                 \n",
            " dense_1 (Dense)             (None, 3)                 39        \n",
            "                                                                 \n",
            "=================================================================\n",
            "Total params: 937\n",
            "Trainable params: 937\n",
            "Non-trainable params: 0\n",
            "_________________________________________________________________\n"
          ]
        }
      ]
    },
    {
      "cell_type": "markdown",
      "source": [
        "### Training"
      ],
      "metadata": {
        "id": "AQ2h2GuvaFv9"
      }
    },
    {
      "cell_type": "code",
      "source": [
        "# early stopping implementation\n",
        "es = EarlyStopping(monitor='val_auc', mode='min', verbose=1, patience=20)\n",
        "\n",
        "\n",
        "# fit the model with early stopping\n",
        "history =model.fit(\n",
        "        training_iterator,\n",
        "        steps_per_epoch=training_iterator.samples/BATCH_SIZE, epochs=40,\n",
        "        validation_data=validation_iterator,\n",
        "        validation_steps=validation_iterator.samples/BATCH_SIZE,\n",
        "        callbacks=[es])"
      ],
      "metadata": {
        "colab": {
          "base_uri": "https://localhost:8080/"
        },
        "id": "cJN-tC0vaC1f",
        "outputId": "58a91b35-1bcb-4cfd-f30e-65eed44a11e5"
      },
      "execution_count": null,
      "outputs": [
        {
          "output_type": "stream",
          "name": "stdout",
          "text": [
            "Epoch 1/40\n",
            "8/7 [==============================] - ETA: 0s - loss: 1.0923 - categorical_accuracy: 0.4104 - auc_1: 0.5649WARNING:tensorflow:Early stopping conditioned on metric `val_auc` which is not available. Available metrics are: loss,categorical_accuracy,auc_1,val_loss,val_categorical_accuracy,val_auc_1\n",
            "7/7 [==============================] - 6s 661ms/step - loss: 1.0923 - categorical_accuracy: 0.4104 - auc_1: 0.5649 - val_loss: 22.6458 - val_categorical_accuracy: 0.4382 - val_auc_1: 0.5632\n",
            "Epoch 2/40\n",
            "8/7 [==============================] - ETA: 0s - loss: 1.0936 - categorical_accuracy: 0.4104 - auc_1: 0.5603WARNING:tensorflow:Early stopping conditioned on metric `val_auc` which is not available. Available metrics are: loss,categorical_accuracy,auc_1,val_loss,val_categorical_accuracy,val_auc_1\n",
            "7/7 [==============================] - 5s 599ms/step - loss: 1.0936 - categorical_accuracy: 0.4104 - auc_1: 0.5603 - val_loss: 15.4683 - val_categorical_accuracy: 0.4382 - val_auc_1: 0.5472\n",
            "Epoch 3/40\n",
            "8/7 [==============================] - ETA: 0s - loss: 1.0826 - categorical_accuracy: 0.4303 - auc_1: 0.5843WARNING:tensorflow:Early stopping conditioned on metric `val_auc` which is not available. Available metrics are: loss,categorical_accuracy,auc_1,val_loss,val_categorical_accuracy,val_auc_1\n",
            "7/7 [==============================] - 5s 605ms/step - loss: 1.0826 - categorical_accuracy: 0.4303 - auc_1: 0.5843 - val_loss: 13.2622 - val_categorical_accuracy: 0.4382 - val_auc_1: 0.5521\n",
            "Epoch 4/40\n",
            "8/7 [==============================] - ETA: 0s - loss: 1.0737 - categorical_accuracy: 0.4223 - auc_1: 0.6038WARNING:tensorflow:Early stopping conditioned on metric `val_auc` which is not available. Available metrics are: loss,categorical_accuracy,auc_1,val_loss,val_categorical_accuracy,val_auc_1\n",
            "7/7 [==============================] - 4s 588ms/step - loss: 1.0737 - categorical_accuracy: 0.4223 - auc_1: 0.6038 - val_loss: 9.5549 - val_categorical_accuracy: 0.4183 - val_auc_1: 0.5520\n",
            "Epoch 5/40\n",
            "8/7 [==============================] - ETA: 0s - loss: 1.0711 - categorical_accuracy: 0.4582 - auc_1: 0.6087WARNING:tensorflow:Early stopping conditioned on metric `val_auc` which is not available. Available metrics are: loss,categorical_accuracy,auc_1,val_loss,val_categorical_accuracy,val_auc_1\n",
            "7/7 [==============================] - 5s 614ms/step - loss: 1.0711 - categorical_accuracy: 0.4582 - auc_1: 0.6087 - val_loss: 16.4431 - val_categorical_accuracy: 0.4382 - val_auc_1: 0.5716\n",
            "Epoch 6/40\n",
            "8/7 [==============================] - ETA: 0s - loss: 1.0650 - categorical_accuracy: 0.4462 - auc_1: 0.6142WARNING:tensorflow:Early stopping conditioned on metric `val_auc` which is not available. Available metrics are: loss,categorical_accuracy,auc_1,val_loss,val_categorical_accuracy,val_auc_1\n",
            "7/7 [==============================] - 5s 594ms/step - loss: 1.0650 - categorical_accuracy: 0.4462 - auc_1: 0.6142 - val_loss: 18.2131 - val_categorical_accuracy: 0.4343 - val_auc_1: 0.5773\n",
            "Epoch 7/40\n",
            "8/7 [==============================] - ETA: 0s - loss: 1.0585 - categorical_accuracy: 0.4542 - auc_1: 0.6273WARNING:tensorflow:Early stopping conditioned on metric `val_auc` which is not available. Available metrics are: loss,categorical_accuracy,auc_1,val_loss,val_categorical_accuracy,val_auc_1\n",
            "7/7 [==============================] - 5s 601ms/step - loss: 1.0585 - categorical_accuracy: 0.4542 - auc_1: 0.6273 - val_loss: 24.2954 - val_categorical_accuracy: 0.4422 - val_auc_1: 0.5795\n",
            "Epoch 8/40\n",
            "8/7 [==============================] - ETA: 0s - loss: 1.0714 - categorical_accuracy: 0.4462 - auc_1: 0.5969WARNING:tensorflow:Early stopping conditioned on metric `val_auc` which is not available. Available metrics are: loss,categorical_accuracy,auc_1,val_loss,val_categorical_accuracy,val_auc_1\n",
            "7/7 [==============================] - 5s 602ms/step - loss: 1.0714 - categorical_accuracy: 0.4462 - auc_1: 0.5969 - val_loss: 20.7690 - val_categorical_accuracy: 0.4382 - val_auc_1: 0.5819\n",
            "Epoch 9/40\n",
            "8/7 [==============================] - ETA: 0s - loss: 1.0561 - categorical_accuracy: 0.4422 - auc_1: 0.6278WARNING:tensorflow:Early stopping conditioned on metric `val_auc` which is not available. Available metrics are: loss,categorical_accuracy,auc_1,val_loss,val_categorical_accuracy,val_auc_1\n",
            "7/7 [==============================] - 5s 596ms/step - loss: 1.0561 - categorical_accuracy: 0.4422 - auc_1: 0.6278 - val_loss: 19.5915 - val_categorical_accuracy: 0.4382 - val_auc_1: 0.5837\n",
            "Epoch 10/40\n",
            "8/7 [==============================] - ETA: 0s - loss: 1.0584 - categorical_accuracy: 0.4422 - auc_1: 0.6219WARNING:tensorflow:Early stopping conditioned on metric `val_auc` which is not available. Available metrics are: loss,categorical_accuracy,auc_1,val_loss,val_categorical_accuracy,val_auc_1\n",
            "7/7 [==============================] - 5s 597ms/step - loss: 1.0584 - categorical_accuracy: 0.4422 - auc_1: 0.6219 - val_loss: 12.8170 - val_categorical_accuracy: 0.4422 - val_auc_1: 0.5917\n",
            "Epoch 11/40\n",
            "8/7 [==============================] - ETA: 0s - loss: 1.0471 - categorical_accuracy: 0.4343 - auc_1: 0.6418WARNING:tensorflow:Early stopping conditioned on metric `val_auc` which is not available. Available metrics are: loss,categorical_accuracy,auc_1,val_loss,val_categorical_accuracy,val_auc_1\n",
            "7/7 [==============================] - 5s 604ms/step - loss: 1.0471 - categorical_accuracy: 0.4343 - auc_1: 0.6418 - val_loss: 15.0636 - val_categorical_accuracy: 0.4462 - val_auc_1: 0.5886\n",
            "Epoch 12/40\n",
            "8/7 [==============================] - ETA: 0s - loss: 1.0499 - categorical_accuracy: 0.4462 - auc_1: 0.6346WARNING:tensorflow:Early stopping conditioned on metric `val_auc` which is not available. Available metrics are: loss,categorical_accuracy,auc_1,val_loss,val_categorical_accuracy,val_auc_1\n",
            "7/7 [==============================] - 5s 600ms/step - loss: 1.0499 - categorical_accuracy: 0.4462 - auc_1: 0.6346 - val_loss: 20.5240 - val_categorical_accuracy: 0.4502 - val_auc_1: 0.5874\n",
            "Epoch 13/40\n",
            "8/7 [==============================] - ETA: 0s - loss: 1.0535 - categorical_accuracy: 0.4422 - auc_1: 0.6263WARNING:tensorflow:Early stopping conditioned on metric `val_auc` which is not available. Available metrics are: loss,categorical_accuracy,auc_1,val_loss,val_categorical_accuracy,val_auc_1\n",
            "7/7 [==============================] - 5s 617ms/step - loss: 1.0535 - categorical_accuracy: 0.4422 - auc_1: 0.6263 - val_loss: 15.7082 - val_categorical_accuracy: 0.4582 - val_auc_1: 0.6000\n",
            "Epoch 14/40\n",
            "8/7 [==============================] - ETA: 0s - loss: 1.0395 - categorical_accuracy: 0.4462 - auc_1: 0.6451WARNING:tensorflow:Early stopping conditioned on metric `val_auc` which is not available. Available metrics are: loss,categorical_accuracy,auc_1,val_loss,val_categorical_accuracy,val_auc_1\n",
            "7/7 [==============================] - 5s 612ms/step - loss: 1.0395 - categorical_accuracy: 0.4462 - auc_1: 0.6451 - val_loss: 18.4725 - val_categorical_accuracy: 0.4502 - val_auc_1: 0.5925\n",
            "Epoch 15/40\n",
            "8/7 [==============================] - ETA: 0s - loss: 1.0411 - categorical_accuracy: 0.4582 - auc_1: 0.6580WARNING:tensorflow:Early stopping conditioned on metric `val_auc` which is not available. Available metrics are: loss,categorical_accuracy,auc_1,val_loss,val_categorical_accuracy,val_auc_1\n",
            "7/7 [==============================] - 5s 609ms/step - loss: 1.0411 - categorical_accuracy: 0.4582 - auc_1: 0.6580 - val_loss: 12.3389 - val_categorical_accuracy: 0.4900 - val_auc_1: 0.6404\n",
            "Epoch 16/40\n",
            "8/7 [==============================] - ETA: 0s - loss: 1.0288 - categorical_accuracy: 0.4462 - auc_1: 0.6526WARNING:tensorflow:Early stopping conditioned on metric `val_auc` which is not available. Available metrics are: loss,categorical_accuracy,auc_1,val_loss,val_categorical_accuracy,val_auc_1\n",
            "7/7 [==============================] - 5s 612ms/step - loss: 1.0288 - categorical_accuracy: 0.4462 - auc_1: 0.6526 - val_loss: 28.2122 - val_categorical_accuracy: 0.4542 - val_auc_1: 0.5904\n",
            "Epoch 17/40\n",
            "8/7 [==============================] - ETA: 0s - loss: 1.0422 - categorical_accuracy: 0.4661 - auc_1: 0.6386WARNING:tensorflow:Early stopping conditioned on metric `val_auc` which is not available. Available metrics are: loss,categorical_accuracy,auc_1,val_loss,val_categorical_accuracy,val_auc_1\n",
            "7/7 [==============================] - 5s 617ms/step - loss: 1.0422 - categorical_accuracy: 0.4661 - auc_1: 0.6386 - val_loss: 3.7307 - val_categorical_accuracy: 0.6693 - val_auc_1: 0.7854\n",
            "Epoch 18/40\n",
            "8/7 [==============================] - ETA: 0s - loss: 1.0053 - categorical_accuracy: 0.4861 - auc_1: 0.6934WARNING:tensorflow:Early stopping conditioned on metric `val_auc` which is not available. Available metrics are: loss,categorical_accuracy,auc_1,val_loss,val_categorical_accuracy,val_auc_1\n",
            "7/7 [==============================] - 5s 595ms/step - loss: 1.0053 - categorical_accuracy: 0.4861 - auc_1: 0.6934 - val_loss: 13.7091 - val_categorical_accuracy: 0.5418 - val_auc_1: 0.6866\n",
            "Epoch 19/40\n",
            "8/7 [==============================] - ETA: 0s - loss: 0.9978 - categorical_accuracy: 0.4861 - auc_1: 0.6958WARNING:tensorflow:Early stopping conditioned on metric `val_auc` which is not available. Available metrics are: loss,categorical_accuracy,auc_1,val_loss,val_categorical_accuracy,val_auc_1\n",
            "7/7 [==============================] - 5s 596ms/step - loss: 0.9978 - categorical_accuracy: 0.4861 - auc_1: 0.6958 - val_loss: 14.0835 - val_categorical_accuracy: 0.6096 - val_auc_1: 0.7195\n",
            "Epoch 20/40\n",
            "8/7 [==============================] - ETA: 0s - loss: 0.9912 - categorical_accuracy: 0.4781 - auc_1: 0.6910WARNING:tensorflow:Early stopping conditioned on metric `val_auc` which is not available. Available metrics are: loss,categorical_accuracy,auc_1,val_loss,val_categorical_accuracy,val_auc_1\n",
            "7/7 [==============================] - 5s 637ms/step - loss: 0.9912 - categorical_accuracy: 0.4781 - auc_1: 0.6910 - val_loss: 4.7482 - val_categorical_accuracy: 0.7450 - val_auc_1: 0.8375\n",
            "Epoch 21/40\n",
            "8/7 [==============================] - ETA: 0s - loss: 0.9936 - categorical_accuracy: 0.5498 - auc_1: 0.7041WARNING:tensorflow:Early stopping conditioned on metric `val_auc` which is not available. Available metrics are: loss,categorical_accuracy,auc_1,val_loss,val_categorical_accuracy,val_auc_1\n",
            "7/7 [==============================] - 4s 587ms/step - loss: 0.9936 - categorical_accuracy: 0.5498 - auc_1: 0.7041 - val_loss: 13.9955 - val_categorical_accuracy: 0.6454 - val_auc_1: 0.7589\n",
            "Epoch 22/40\n",
            "8/7 [==============================] - ETA: 0s - loss: 0.9608 - categorical_accuracy: 0.5339 - auc_1: 0.7224WARNING:tensorflow:Early stopping conditioned on metric `val_auc` which is not available. Available metrics are: loss,categorical_accuracy,auc_1,val_loss,val_categorical_accuracy,val_auc_1\n",
            "7/7 [==============================] - 4s 589ms/step - loss: 0.9608 - categorical_accuracy: 0.5339 - auc_1: 0.7224 - val_loss: 6.8498 - val_categorical_accuracy: 0.7291 - val_auc_1: 0.8155\n",
            "Epoch 23/40\n",
            "8/7 [==============================] - ETA: 0s - loss: 0.9579 - categorical_accuracy: 0.5737 - auc_1: 0.7432WARNING:tensorflow:Early stopping conditioned on metric `val_auc` which is not available. Available metrics are: loss,categorical_accuracy,auc_1,val_loss,val_categorical_accuracy,val_auc_1\n",
            "7/7 [==============================] - 5s 591ms/step - loss: 0.9579 - categorical_accuracy: 0.5737 - auc_1: 0.7432 - val_loss: 10.7297 - val_categorical_accuracy: 0.7211 - val_auc_1: 0.7987\n",
            "Epoch 24/40\n",
            "8/7 [==============================] - ETA: 0s - loss: 0.9323 - categorical_accuracy: 0.5618 - auc_1: 0.7407WARNING:tensorflow:Early stopping conditioned on metric `val_auc` which is not available. Available metrics are: loss,categorical_accuracy,auc_1,val_loss,val_categorical_accuracy,val_auc_1\n",
            "7/7 [==============================] - 5s 612ms/step - loss: 0.9323 - categorical_accuracy: 0.5618 - auc_1: 0.7407 - val_loss: 7.6792 - val_categorical_accuracy: 0.7888 - val_auc_1: 0.8487\n",
            "Epoch 25/40\n",
            "8/7 [==============================] - ETA: 0s - loss: 0.9297 - categorical_accuracy: 0.5458 - auc_1: 0.7515WARNING:tensorflow:Early stopping conditioned on metric `val_auc` which is not available. Available metrics are: loss,categorical_accuracy,auc_1,val_loss,val_categorical_accuracy,val_auc_1\n",
            "7/7 [==============================] - 5s 603ms/step - loss: 0.9297 - categorical_accuracy: 0.5458 - auc_1: 0.7515 - val_loss: 9.0931 - val_categorical_accuracy: 0.8207 - val_auc_1: 0.8697\n",
            "Epoch 26/40\n",
            "8/7 [==============================] - ETA: 0s - loss: 0.9092 - categorical_accuracy: 0.6016 - auc_1: 0.7768WARNING:tensorflow:Early stopping conditioned on metric `val_auc` which is not available. Available metrics are: loss,categorical_accuracy,auc_1,val_loss,val_categorical_accuracy,val_auc_1\n",
            "7/7 [==============================] - 5s 618ms/step - loss: 0.9092 - categorical_accuracy: 0.6016 - auc_1: 0.7768 - val_loss: 8.7184 - val_categorical_accuracy: 0.7928 - val_auc_1: 0.8491\n",
            "Epoch 27/40\n",
            "8/7 [==============================] - ETA: 0s - loss: 0.9134 - categorical_accuracy: 0.5896 - auc_1: 0.7677WARNING:tensorflow:Early stopping conditioned on metric `val_auc` which is not available. Available metrics are: loss,categorical_accuracy,auc_1,val_loss,val_categorical_accuracy,val_auc_1\n",
            "7/7 [==============================] - 5s 599ms/step - loss: 0.9134 - categorical_accuracy: 0.5896 - auc_1: 0.7677 - val_loss: 19.0034 - val_categorical_accuracy: 0.7371 - val_auc_1: 0.8087\n",
            "Epoch 28/40\n",
            "8/7 [==============================] - ETA: 0s - loss: 0.8976 - categorical_accuracy: 0.5737 - auc_1: 0.7700WARNING:tensorflow:Early stopping conditioned on metric `val_auc` which is not available. Available metrics are: loss,categorical_accuracy,auc_1,val_loss,val_categorical_accuracy,val_auc_1\n",
            "7/7 [==============================] - 5s 604ms/step - loss: 0.8976 - categorical_accuracy: 0.5737 - auc_1: 0.7700 - val_loss: 11.7266 - val_categorical_accuracy: 0.7649 - val_auc_1: 0.8335\n",
            "Epoch 29/40\n",
            "8/7 [==============================] - ETA: 0s - loss: 0.8394 - categorical_accuracy: 0.6255 - auc_1: 0.8200WARNING:tensorflow:Early stopping conditioned on metric `val_auc` which is not available. Available metrics are: loss,categorical_accuracy,auc_1,val_loss,val_categorical_accuracy,val_auc_1\n",
            "7/7 [==============================] - 5s 592ms/step - loss: 0.8394 - categorical_accuracy: 0.6255 - auc_1: 0.8200 - val_loss: 14.0306 - val_categorical_accuracy: 0.8247 - val_auc_1: 0.8675\n",
            "Epoch 30/40\n",
            "8/7 [==============================] - ETA: 0s - loss: 0.8469 - categorical_accuracy: 0.6335 - auc_1: 0.8030WARNING:tensorflow:Early stopping conditioned on metric `val_auc` which is not available. Available metrics are: loss,categorical_accuracy,auc_1,val_loss,val_categorical_accuracy,val_auc_1\n",
            "7/7 [==============================] - 5s 602ms/step - loss: 0.8469 - categorical_accuracy: 0.6335 - auc_1: 0.8030 - val_loss: 19.4919 - val_categorical_accuracy: 0.8048 - val_auc_1: 0.8610\n",
            "Epoch 31/40\n",
            "8/7 [==============================] - ETA: 0s - loss: 0.8313 - categorical_accuracy: 0.6215 - auc_1: 0.8119WARNING:tensorflow:Early stopping conditioned on metric `val_auc` which is not available. Available metrics are: loss,categorical_accuracy,auc_1,val_loss,val_categorical_accuracy,val_auc_1\n",
            "7/7 [==============================] - 6s 838ms/step - loss: 0.8313 - categorical_accuracy: 0.6215 - auc_1: 0.8119 - val_loss: 15.0779 - val_categorical_accuracy: 0.8327 - val_auc_1: 0.8818\n",
            "Epoch 32/40\n",
            "8/7 [==============================] - ETA: 0s - loss: 0.8192 - categorical_accuracy: 0.6494 - auc_1: 0.8196WARNING:tensorflow:Early stopping conditioned on metric `val_auc` which is not available. Available metrics are: loss,categorical_accuracy,auc_1,val_loss,val_categorical_accuracy,val_auc_1\n",
            "7/7 [==============================] - 5s 672ms/step - loss: 0.8192 - categorical_accuracy: 0.6494 - auc_1: 0.8196 - val_loss: 13.9396 - val_categorical_accuracy: 0.8048 - val_auc_1: 0.8681\n",
            "Epoch 33/40\n",
            "8/7 [==============================] - ETA: 0s - loss: 0.7690 - categorical_accuracy: 0.6614 - auc_1: 0.8480WARNING:tensorflow:Early stopping conditioned on metric `val_auc` which is not available. Available metrics are: loss,categorical_accuracy,auc_1,val_loss,val_categorical_accuracy,val_auc_1\n",
            "7/7 [==============================] - 5s 624ms/step - loss: 0.7690 - categorical_accuracy: 0.6614 - auc_1: 0.8480 - val_loss: 15.6711 - val_categorical_accuracy: 0.7769 - val_auc_1: 0.8414\n",
            "Epoch 34/40\n",
            "8/7 [==============================] - ETA: 0s - loss: 0.7407 - categorical_accuracy: 0.6972 - auc_1: 0.8653WARNING:tensorflow:Early stopping conditioned on metric `val_auc` which is not available. Available metrics are: loss,categorical_accuracy,auc_1,val_loss,val_categorical_accuracy,val_auc_1\n",
            "7/7 [==============================] - 5s 603ms/step - loss: 0.7407 - categorical_accuracy: 0.6972 - auc_1: 0.8653 - val_loss: 18.2835 - val_categorical_accuracy: 0.7849 - val_auc_1: 0.8423\n",
            "Epoch 35/40\n",
            "8/7 [==============================] - ETA: 0s - loss: 0.7878 - categorical_accuracy: 0.6574 - auc_1: 0.8328WARNING:tensorflow:Early stopping conditioned on metric `val_auc` which is not available. Available metrics are: loss,categorical_accuracy,auc_1,val_loss,val_categorical_accuracy,val_auc_1\n",
            "7/7 [==============================] - 5s 627ms/step - loss: 0.7878 - categorical_accuracy: 0.6574 - auc_1: 0.8328 - val_loss: 17.7695 - val_categorical_accuracy: 0.8127 - val_auc_1: 0.8634\n",
            "Epoch 36/40\n",
            "8/7 [==============================] - ETA: 0s - loss: 0.7442 - categorical_accuracy: 0.6733 - auc_1: 0.8527WARNING:tensorflow:Early stopping conditioned on metric `val_auc` which is not available. Available metrics are: loss,categorical_accuracy,auc_1,val_loss,val_categorical_accuracy,val_auc_1\n",
            "7/7 [==============================] - 4s 596ms/step - loss: 0.7442 - categorical_accuracy: 0.6733 - auc_1: 0.8527 - val_loss: 27.5766 - val_categorical_accuracy: 0.8088 - val_auc_1: 0.8744\n",
            "Epoch 37/40\n",
            "8/7 [==============================] - ETA: 0s - loss: 0.7292 - categorical_accuracy: 0.6932 - auc_1: 0.8559WARNING:tensorflow:Early stopping conditioned on metric `val_auc` which is not available. Available metrics are: loss,categorical_accuracy,auc_1,val_loss,val_categorical_accuracy,val_auc_1\n",
            "7/7 [==============================] - 5s 599ms/step - loss: 0.7292 - categorical_accuracy: 0.6932 - auc_1: 0.8559 - val_loss: 26.9852 - val_categorical_accuracy: 0.8367 - val_auc_1: 0.8798\n",
            "Epoch 38/40\n",
            "8/7 [==============================] - ETA: 0s - loss: 0.6926 - categorical_accuracy: 0.6932 - auc_1: 0.8714WARNING:tensorflow:Early stopping conditioned on metric `val_auc` which is not available. Available metrics are: loss,categorical_accuracy,auc_1,val_loss,val_categorical_accuracy,val_auc_1\n",
            "7/7 [==============================] - 5s 611ms/step - loss: 0.6926 - categorical_accuracy: 0.6932 - auc_1: 0.8714 - val_loss: 30.8257 - val_categorical_accuracy: 0.8367 - val_auc_1: 0.8795\n",
            "Epoch 39/40\n",
            "8/7 [==============================] - ETA: 0s - loss: 0.6792 - categorical_accuracy: 0.7291 - auc_1: 0.8795WARNING:tensorflow:Early stopping conditioned on metric `val_auc` which is not available. Available metrics are: loss,categorical_accuracy,auc_1,val_loss,val_categorical_accuracy,val_auc_1\n",
            "7/7 [==============================] - 5s 616ms/step - loss: 0.6792 - categorical_accuracy: 0.7291 - auc_1: 0.8795 - val_loss: 25.9837 - val_categorical_accuracy: 0.8406 - val_auc_1: 0.8912\n",
            "Epoch 40/40\n",
            "8/7 [==============================] - ETA: 0s - loss: 0.7195 - categorical_accuracy: 0.6733 - auc_1: 0.8546WARNING:tensorflow:Early stopping conditioned on metric `val_auc` which is not available. Available metrics are: loss,categorical_accuracy,auc_1,val_loss,val_categorical_accuracy,val_auc_1\n",
            "7/7 [==============================] - 7s 927ms/step - loss: 0.7195 - categorical_accuracy: 0.6733 - auc_1: 0.8546 - val_loss: 19.7558 - val_categorical_accuracy: 0.8327 - val_auc_1: 0.8795\n"
          ]
        }
      ]
    },
    {
      "cell_type": "code",
      "source": [
        "# plotting categorical and validation accuracy over epochs\n",
        "fig = plt.figure()\n",
        "ax1 = fig.add_subplot(2, 1, 1)\n",
        "ax1.plot(history.history['categorical_accuracy'])\n",
        "ax1.plot(history.history['val_categorical_accuracy'])\n",
        "ax1.set_title('model accuracy')\n",
        "ax1.set_xlabel('epoch')\n",
        "ax1.set_ylabel('accuracy')\n",
        "ax1.legend(['train', 'validation'], loc='upper left')\n",
        "\n",
        "# plotting auc and validation auc over epochs\n",
        "ax2 = fig.add_subplot(2, 1, 2)\n",
        "ax2.plot(history.history['auc_1'])\n",
        "ax2.plot(history.history['val_auc_1'])\n",
        "ax2.set_title('model auc')\n",
        "ax2.set_xlabel('epoch')\n",
        "ax2.set_ylabel('auc')\n",
        "ax2.legend(['train', 'validation'], loc='upper left')\n",
        "\n",
        "plt.show()"
      ],
      "metadata": {
        "colab": {
          "base_uri": "https://localhost:8080/",
          "height": 295
        },
        "id": "G4ZZPYUTaSDg",
        "outputId": "2c689886-38d8-4853-e457-905fd127b5a5"
      },
      "execution_count": null,
      "outputs": [
        {
          "output_type": "display_data",
          "data": {
            "text/plain": [
              "<Figure size 432x288 with 2 Axes>"
            ],
            "image/png": "[encoded data removed]"
          },
          "metadata": {
            "needs_background": "light"
          }
        }
      ]
    },
    {
      "cell_type": "markdown",
      "source": [
        "## Results evaluation\n"
      ],
      "metadata": {
        "id": "cSN097lgaNe2"
      }
    },
    {
      "cell_type": "code",
      "source": [
        "test_steps_per_epoch = numpy.math.ceil(validation_iterator.samples / validation_iterator.batch_size)\n",
        "predictions = model.predict(validation_iterator, steps=test_steps_per_epoch)\n",
        "test_steps_per_epoch = numpy.math.ceil(validation_iterator.samples / validation_iterator.batch_size)\n",
        "predicted_classes = numpy.argmax(predictions, axis=1)\n",
        "true_classes = validation_iterator.classes\n",
        "class_labels = list(validation_iterator.class_indices.keys())\n",
        "report = classification_report(true_classes, predicted_classes, target_names=class_labels)\n",
        "print(report)\n",
        "\n",
        "cm=confusion_matrix(true_classes,predicted_classes)\n",
        "print(cm)"
      ],
      "metadata": {
        "colab": {
          "base_uri": "https://localhost:8080/"
        },
        "id": "lQBBh0PiaHH2",
        "outputId": "f1fba814-79a0-4011-97e1-9bb7fbe0a17e"
      },
      "execution_count": null,
      "outputs": [
        {
          "output_type": "stream",
          "name": "stdout",
          "text": [
            "              precision    recall  f1-score   support\n",
            "\n",
            "       Covid       0.51      0.44      0.47       111\n",
            "      Normal       0.31      0.33      0.32        70\n",
            "   Pneumonia       0.30      0.34      0.32        70\n",
            "\n",
            "    accuracy                           0.38       251\n",
            "   macro avg       0.37      0.37      0.37       251\n",
            "weighted avg       0.40      0.38      0.39       251\n",
            "\n",
            "[[49 29 33]\n",
            " [23 23 24]\n",
            " [24 22 24]]\n"
          ]
        }
      ]
    },
    {
      "cell_type": "code",
      "source": [
        "import itertools\n",
        "import numpy as np\n",
        "def make_confusion_matrix(y_true, y_pred, classes=None, figsize=(10, 10), text_size=15):\n",
        "\n",
        "\n",
        "   Create the confustion matrix\n",
        "  cm = confusion_matrix(y_true, y_pred)\n",
        "  cm_norm = cm.astype(\"float\") / cm.sum(axis=1)[:, np.newaxis] # normalize it\n",
        "  n_classes = cm.shape[0] # find the number of classes we're dealing with\n",
        "\n",
        "  # Plot the figure and make it pretty\n",
        "  fig, ax = plt.subplots(figsize=figsize)\n",
        "  cax = ax.matshow(cm, cmap=plt.cm.Blues) # colors will represent how 'correct' a class is, darker == better\n",
        "  fig.colorbar(cax)\n",
        "\n",
        "  # Are there a list of classes?\n",
        "  if classes:\n",
        "    labels = classes\n",
        "  else:\n",
        "    labels = np.arange(cm.shape[0])\n",
        "\n",
        "  # Label the axes\n",
        "  ax.set(title=\"Confusion Matrix\",\n",
        "         xlabel=\"Predicted label\",\n",
        "         ylabel=\"True label\",\n",
        "         xticks=np.arange(n_classes), # create enough axis slots for each class\n",
        "         yticks=np.arange(n_classes),\n",
        "         xticklabels=labels, # axes will labeled with class names (if they exist) or ints\n",
        "         yticklabels=labels)\n",
        "\n",
        "  # Make x-axis labels appear on bottom\n",
        "  ax.xaxis.set_label_position(\"bottom\")\n",
        "  ax.xaxis.tick_bottom()\n",
        "\n",
        "  # Set the threshold for different colors\n",
        "  threshold = (cm.max() + cm.min()) / 2.\n",
        "\n",
        "  # Plot the text on each cell\n",
        "  for i, j in itertools.product(range(cm.shape[0]), range(cm.shape[1])):\n",
        "    plt.text(j, i, f\"{cm[i, j]} ({cm_norm[i, j]*100:.1f}%)\",\n",
        "             horizontalalignment=\"center\",\n",
        "             color=\"white\" if cm[i, j] > threshold else \"black\",\n",
        "             size=text_size)"
      ],
      "metadata": {
        "id": "7_eP5Uj1aUHK"
      },
      "execution_count": null,
      "outputs": []
    },
    {
      "cell_type": "code",
      "source": [
        "# Make a prettier confusion matrix\n",
        "make_confusion_matrix(y_true=true_classes,\n",
        "                      y_pred=predicted_classes,\n",
        "                      classes=class_labels,\n",
        "                      figsize=(7, 7),\n",
        "                      text_size=10)\n"
      ],
      "metadata": {
        "colab": {
          "base_uri": "https://localhost:8080/",
          "height": 411
        },
        "id": "w_QZmWqjajDf",
        "outputId": "63d9cb8e-44c9-4630-88e0-dc1d85805fb1"
      },
      "execution_count": null,
      "outputs": [
        {
          "output_type": "display_data",
          "data": {
            "text/plain": [
              "<Figure size 504x504 with 2 Axes>"
            ],
            "image/png": "[encoded data removed]"
          },
          "metadata": {
            "needs_background": "light"
          }
        }
      ]
    },
    {
      "cell_type": "code",
      "source": [],
      "metadata": {
        "id": "UVtS2NyXaw-j"
      },
      "execution_count": null,
      "outputs": []
    }
  ]
}